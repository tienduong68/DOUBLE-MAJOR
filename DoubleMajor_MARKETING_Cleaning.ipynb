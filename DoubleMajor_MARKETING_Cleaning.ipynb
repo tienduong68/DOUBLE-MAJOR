{
 "cells": [
  {
   "cell_type": "code",
   "execution_count": 48,
   "id": "b476f4b0-51b1-4a96-8fa3-af360cdb8b27",
   "metadata": {},
   "outputs": [],
   "source": [
    "import pandas as pd\n",
    "import numpy as np\n",
    "import re"
   ]
  },
  {
   "cell_type": "code",
   "execution_count": 60,
   "id": "0e54aa23-fcef-4b1a-b5ba-f95c8da7681b",
   "metadata": {},
   "outputs": [],
   "source": [
    "path = 'DOUBLE MAJOR/MARKETING.xlsx'"
   ]
  },
  {
   "cell_type": "code",
   "execution_count": 65,
   "id": "872ed7b3-7b40-40a7-af1c-eff1c894307b",
   "metadata": {},
   "outputs": [],
   "source": [
    "df = pd.read_excel(path)"
   ]
  },
  {
   "cell_type": "markdown",
   "id": "5dfbe771-77f9-45bb-aef4-a4b24465e6d7",
   "metadata": {},
   "source": [
    "#### Explore data"
   ]
  },
  {
   "cell_type": "code",
   "execution_count": 66,
   "id": "029577a9-cb15-4173-894c-a2218f9a7f17",
   "metadata": {
    "scrolled": true
   },
   "outputs": [
    {
     "name": "stdout",
     "output_type": "stream",
     "text": [
      "                     TT MÃ HỌC PHẦN             TÊN HỌC PHẦN  SỐ TC SỐ TIẾT  \\\n",
      "0                   NaN         NaN                      NaN    NaN      LT   \n",
      "1  1. Giáo dục thể chất         NaN                      NaN    NaN     NaN   \n",
      "2              Bắt Buộc         NaN                      NaN    NaN     NaN   \n",
      "3                     1    GDTC1101  Giáo dục thể chất 1 (*)    2.0      30   \n",
      "4               Tự Chọn         NaN                      NaN    NaN     NaN   \n",
      "\n",
      "  Unnamed: 5 HỌC PHẦN TIÊN QUYẾT  HỌC PHẦN HỌC TRƯỚC         KHOA/BỘ MÔN  \\\n",
      "0         TH                 NaN                 NaN                 NaN   \n",
      "1        NaN                 NaN                 NaN                 NaN   \n",
      "2        NaN                 NaN                 NaN                 NaN   \n",
      "3        NaN                 NaN                 NaN  Các đơn vị đào tạo   \n",
      "4        NaN                 NaN                 NaN                 NaN   \n",
      "\n",
      "   ĐỀ CƯƠNG  \n",
      "0       NaN  \n",
      "1       NaN  \n",
      "2       NaN  \n",
      "3       NaN  \n",
      "4       NaN  \n"
     ]
    }
   ],
   "source": [
    "print(df.head())"
   ]
  },
  {
   "cell_type": "markdown",
   "id": "e7679032-9dec-433e-ab10-fe4d1d4c9b1f",
   "metadata": {},
   "source": [
    "#### Drop the rows and Columns that are not the part of the actual data "
   ]
  },
  {
   "cell_type": "code",
   "execution_count": 67,
   "id": "06faeeea-c94c-4fc6-8523-fbbf53561441",
   "metadata": {},
   "outputs": [],
   "source": [
    "df = df.drop([0], axis = 0)"
   ]
  },
  {
   "cell_type": "code",
   "execution_count": 68,
   "id": "7982397f-c96f-4f35-b0bc-61218c6b8b55",
   "metadata": {},
   "outputs": [],
   "source": [
    "df = df.drop(df.columns[[4,5,6,7,9]], axis = 1)"
   ]
  },
  {
   "cell_type": "code",
   "execution_count": 69,
   "id": "789e8b4f-362b-45fa-b406-0c59c180bb1b",
   "metadata": {},
   "outputs": [
    {
     "data": {
      "text/html": [
       "<div>\n",
       "<style scoped>\n",
       "    .dataframe tbody tr th:only-of-type {\n",
       "        vertical-align: middle;\n",
       "    }\n",
       "\n",
       "    .dataframe tbody tr th {\n",
       "        vertical-align: top;\n",
       "    }\n",
       "\n",
       "    .dataframe thead th {\n",
       "        text-align: right;\n",
       "    }\n",
       "</style>\n",
       "<table border=\"1\" class=\"dataframe\">\n",
       "  <thead>\n",
       "    <tr style=\"text-align: right;\">\n",
       "      <th></th>\n",
       "      <th>TT</th>\n",
       "      <th>MÃ HỌC PHẦN</th>\n",
       "      <th>TÊN HỌC PHẦN</th>\n",
       "      <th>SỐ TC</th>\n",
       "      <th>KHOA/BỘ MÔN</th>\n",
       "    </tr>\n",
       "  </thead>\n",
       "  <tbody>\n",
       "    <tr>\n",
       "      <th>1</th>\n",
       "      <td>1. Giáo dục thể chất</td>\n",
       "      <td>NaN</td>\n",
       "      <td>NaN</td>\n",
       "      <td>NaN</td>\n",
       "      <td>NaN</td>\n",
       "    </tr>\n",
       "    <tr>\n",
       "      <th>2</th>\n",
       "      <td>Bắt Buộc</td>\n",
       "      <td>NaN</td>\n",
       "      <td>NaN</td>\n",
       "      <td>NaN</td>\n",
       "      <td>NaN</td>\n",
       "    </tr>\n",
       "    <tr>\n",
       "      <th>3</th>\n",
       "      <td>1</td>\n",
       "      <td>GDTC1101</td>\n",
       "      <td>Giáo dục thể chất 1 (*)</td>\n",
       "      <td>2.0</td>\n",
       "      <td>Các đơn vị đào tạo</td>\n",
       "    </tr>\n",
       "    <tr>\n",
       "      <th>4</th>\n",
       "      <td>Tự Chọn</td>\n",
       "      <td>NaN</td>\n",
       "      <td>NaN</td>\n",
       "      <td>NaN</td>\n",
       "      <td>NaN</td>\n",
       "    </tr>\n",
       "    <tr>\n",
       "      <th>5</th>\n",
       "      <td>2</td>\n",
       "      <td>GDTC1103</td>\n",
       "      <td>Bóng chuyền 1 (*)</td>\n",
       "      <td>2.0</td>\n",
       "      <td>Các đơn vị đào tạo</td>\n",
       "    </tr>\n",
       "    <tr>\n",
       "      <th>...</th>\n",
       "      <td>...</td>\n",
       "      <td>...</td>\n",
       "      <td>...</td>\n",
       "      <td>...</td>\n",
       "      <td>...</td>\n",
       "    </tr>\n",
       "    <tr>\n",
       "      <th>112</th>\n",
       "      <td>91</td>\n",
       "      <td>MKMA1108</td>\n",
       "      <td>Marketing quốc tế</td>\n",
       "      <td>3.0</td>\n",
       "      <td>Khoa Marketing</td>\n",
       "    </tr>\n",
       "    <tr>\n",
       "      <th>113</th>\n",
       "      <td>92</td>\n",
       "      <td>MKTT1109</td>\n",
       "      <td>Quan hệ công chúng</td>\n",
       "      <td>3.0</td>\n",
       "      <td>Khoa Marketing</td>\n",
       "    </tr>\n",
       "    <tr>\n",
       "      <th>114</th>\n",
       "      <td>93</td>\n",
       "      <td>MKTT1112</td>\n",
       "      <td>Quản trị quảng cáo</td>\n",
       "      <td>3.0</td>\n",
       "      <td>Khoa Marketing</td>\n",
       "    </tr>\n",
       "    <tr>\n",
       "      <th>115</th>\n",
       "      <td>94</td>\n",
       "      <td>MKTT1114</td>\n",
       "      <td>Quản trị thương hiệu</td>\n",
       "      <td>3.0</td>\n",
       "      <td>Khoa Marketing</td>\n",
       "    </tr>\n",
       "    <tr>\n",
       "      <th>116</th>\n",
       "      <td>95</td>\n",
       "      <td>NHTM1129</td>\n",
       "      <td>Quản trị rủi ro</td>\n",
       "      <td>3.0</td>\n",
       "      <td>Viện Ngân hàng - Tài chính</td>\n",
       "    </tr>\n",
       "  </tbody>\n",
       "</table>\n",
       "<p>116 rows × 5 columns</p>\n",
       "</div>"
      ],
      "text/plain": [
       "                       TT MÃ HỌC PHẦN             TÊN HỌC PHẦN  SỐ TC  \\\n",
       "1    1. Giáo dục thể chất         NaN                      NaN    NaN   \n",
       "2                Bắt Buộc         NaN                      NaN    NaN   \n",
       "3                       1    GDTC1101  Giáo dục thể chất 1 (*)    2.0   \n",
       "4                 Tự Chọn         NaN                      NaN    NaN   \n",
       "5                       2    GDTC1103        Bóng chuyền 1 (*)    2.0   \n",
       "..                    ...         ...                      ...    ...   \n",
       "112                    91    MKMA1108        Marketing quốc tế    3.0   \n",
       "113                    92    MKTT1109       Quan hệ công chúng    3.0   \n",
       "114                    93    MKTT1112       Quản trị quảng cáo    3.0   \n",
       "115                    94    MKTT1114     Quản trị thương hiệu    3.0   \n",
       "116                    95    NHTM1129          Quản trị rủi ro    3.0   \n",
       "\n",
       "                    KHOA/BỘ MÔN  \n",
       "1                           NaN  \n",
       "2                           NaN  \n",
       "3            Các đơn vị đào tạo  \n",
       "4                           NaN  \n",
       "5            Các đơn vị đào tạo  \n",
       "..                          ...  \n",
       "112              Khoa Marketing  \n",
       "113              Khoa Marketing  \n",
       "114              Khoa Marketing  \n",
       "115              Khoa Marketing  \n",
       "116  Viện Ngân hàng - Tài chính  \n",
       "\n",
       "[116 rows x 5 columns]"
      ]
     },
     "execution_count": 69,
     "metadata": {},
     "output_type": "execute_result"
    }
   ],
   "source": [
    "df"
   ]
  },
  {
   "cell_type": "markdown",
   "id": "319385db-5fc5-45d0-a4e3-3a0235bf6459",
   "metadata": {},
   "source": [
    "#### Rename the columns"
   ]
  },
  {
   "cell_type": "code",
   "execution_count": 70,
   "id": "0ab3d8b2-b53c-4ea8-a2de-35f8dd811661",
   "metadata": {},
   "outputs": [],
   "source": [
    "df.columns = ['Index', 'Course_ID', 'Course_Name', 'Credits', 'Department']"
   ]
  },
  {
   "cell_type": "markdown",
   "id": "27730b13-92b4-4885-a44d-abe584341a4a",
   "metadata": {},
   "source": [
    "#### Reset Index after dropping rows"
   ]
  },
  {
   "cell_type": "code",
   "execution_count": 71,
   "id": "da57f0ef-8060-48f2-8c5b-371cf4c77046",
   "metadata": {},
   "outputs": [],
   "source": [
    "df = df.reset_index(drop = True)"
   ]
  },
  {
   "cell_type": "code",
   "execution_count": 72,
   "id": "25d14780-0c58-4799-bb50-7e1092d76011",
   "metadata": {},
   "outputs": [],
   "source": [
    "def is_number(value):\n",
    "    try:\n",
    "        float(value)\n",
    "        return True\n",
    "    except ValueError:\n",
    "        return False"
   ]
  },
  {
   "cell_type": "code",
   "execution_count": 73,
   "id": "cebb441d-1dd8-4872-a15b-367f8d1a5631",
   "metadata": {},
   "outputs": [
    {
     "name": "stdout",
     "output_type": "stream",
     "text": [
      "                               Index Course_ID Course_Name  Credits Department\n",
      "0               1. Giáo dục thể chất       NaN         NaN      NaN        NaN\n",
      "1                           Bắt Buộc       NaN         NaN      NaN        NaN\n",
      "3                            Tự Chọn       NaN         NaN      NaN        NaN\n",
      "31   2. Kiến thức giáo dục đại cương       NaN         NaN      NaN        NaN\n",
      "32                          Bắt Buộc       NaN         NaN      NaN        NaN\n",
      "38                     3. Chuyên sâu       NaN         NaN      NaN        NaN\n",
      "39                           Tự Chọn       NaN         NaN      NaN        NaN\n",
      "52                       4. Thực tập       NaN         NaN      NaN        NaN\n",
      "53                          Bắt Buộc       NaN         NaN      NaN        NaN\n",
      "55                 5. Học phần chung       NaN         NaN      NaN        NaN\n",
      "56                          Bắt Buộc       NaN         NaN      NaN        NaN\n",
      "61                           Tự Chọn       NaN         NaN      NaN        NaN\n",
      "75            6. Học phần của trường       NaN         NaN      NaN        NaN\n",
      "76                          Bắt Buộc       NaN         NaN      NaN        NaN\n",
      "81             7. Học phần của ngành       NaN         NaN      NaN        NaN\n",
      "82                          Bắt Buộc       NaN         NaN      NaN        NaN\n",
      "87                    8. Cơ sở ngành       NaN         NaN      NaN        NaN\n",
      "88                          Bắt Buộc       NaN         NaN      NaN        NaN\n",
      "94                9. Kiến thức ngành       NaN         NaN      NaN        NaN\n",
      "95                          Bắt Buộc       NaN         NaN      NaN        NaN\n",
      "105                          Tự Chọn       NaN         NaN      NaN        NaN\n"
     ]
    }
   ],
   "source": [
    "index_position = df[~df['Index'].apply(is_number)]\n",
    "print(index_position)"
   ]
  },
  {
   "cell_type": "code",
   "execution_count": 74,
   "id": "2ae8ce26-c9ea-492e-a863-8a98a7a91538",
   "metadata": {},
   "outputs": [
    {
     "name": "stdout",
     "output_type": "stream",
     "text": [
      "                               Index Course_ID  \\\n",
      "31   2. Kiến thức giáo dục đại cương       NaN   \n",
      "32                          Bắt Buộc       NaN   \n",
      "33                                29  LLDL1102   \n",
      "34                                30  LLNL1105   \n",
      "35                                31  LLNL1106   \n",
      "..                               ...       ...   \n",
      "111                               91  MKMA1108   \n",
      "112                               92  MKTT1109   \n",
      "113                               93  MKTT1112   \n",
      "114                               94  MKTT1114   \n",
      "115                               95  NHTM1129   \n",
      "\n",
      "                        Course_Name  Credits                  Department  \n",
      "31                              NaN      NaN                         NaN  \n",
      "32                              NaN      NaN                         NaN  \n",
      "33   Lịch sử Đảng Cộng sản Việt Nam      2.0      Khoa Lý luận chính trị  \n",
      "34            Triết học Mác - Lênin      3.0      Khoa Lý luận chính trị  \n",
      "35    Kinh tế chính trị Mác - Lênin      2.0      Khoa Lý luận chính trị  \n",
      "..                              ...      ...                         ...  \n",
      "111               Marketing quốc tế      3.0              Khoa Marketing  \n",
      "112              Quan hệ công chúng      3.0              Khoa Marketing  \n",
      "113              Quản trị quảng cáo      3.0              Khoa Marketing  \n",
      "114            Quản trị thương hiệu      3.0              Khoa Marketing  \n",
      "115                 Quản trị rủi ro      3.0  Viện Ngân hàng - Tài chính  \n",
      "\n",
      "[85 rows x 5 columns]\n"
     ]
    }
   ],
   "source": [
    "df = df.drop(df.index[0:31])\n",
    "print(df)"
   ]
  },
  {
   "cell_type": "code",
   "execution_count": 75,
   "id": "6e948f4b-6d9e-4a7b-88e3-e0547bc5eb22",
   "metadata": {},
   "outputs": [
    {
     "name": "stdout",
     "output_type": "stream",
     "text": [
      "                              Index Course_ID                     Course_Name  \\\n",
      "0   2. Kiến thức giáo dục đại cương       NaN                             NaN   \n",
      "1                          Bắt Buộc       NaN                             NaN   \n",
      "2                                29  LLDL1102  Lịch sử Đảng Cộng sản Việt Nam   \n",
      "3                                30  LLNL1105           Triết học Mác - Lênin   \n",
      "4                                31  LLNL1106   Kinh tế chính trị Mác - Lênin   \n",
      "..                              ...       ...                             ...   \n",
      "80                               91  MKMA1108               Marketing quốc tế   \n",
      "81                               92  MKTT1109              Quan hệ công chúng   \n",
      "82                               93  MKTT1112              Quản trị quảng cáo   \n",
      "83                               94  MKTT1114            Quản trị thương hiệu   \n",
      "84                               95  NHTM1129                 Quản trị rủi ro   \n",
      "\n",
      "    Credits                  Department  \n",
      "0       NaN                         NaN  \n",
      "1       NaN                         NaN  \n",
      "2       2.0      Khoa Lý luận chính trị  \n",
      "3       3.0      Khoa Lý luận chính trị  \n",
      "4       2.0      Khoa Lý luận chính trị  \n",
      "..      ...                         ...  \n",
      "80      3.0              Khoa Marketing  \n",
      "81      3.0              Khoa Marketing  \n",
      "82      3.0              Khoa Marketing  \n",
      "83      3.0              Khoa Marketing  \n",
      "84      3.0  Viện Ngân hàng - Tài chính  \n",
      "\n",
      "[85 rows x 5 columns]\n"
     ]
    }
   ],
   "source": [
    "df = df.reset_index(drop = True)\n",
    "print(df)"
   ]
  },
  {
   "cell_type": "code",
   "execution_count": 76,
   "id": "da3bbbac-9c14-4380-b590-7d4ec31735a5",
   "metadata": {},
   "outputs": [],
   "source": [
    "output_file_path = 'DOUBLE MAJOR/DoubleMajor_MARKETING_Cleaned.xlsx'\n",
    "df.to_excel(output_file_path, index=False)"
   ]
  },
  {
   "cell_type": "code",
   "execution_count": null,
   "id": "f692630a-0d4c-484f-9a88-c0089f0151fb",
   "metadata": {},
   "outputs": [],
   "source": []
  },
  {
   "cell_type": "code",
   "execution_count": null,
   "id": "bc4fa06b-a059-44c2-9bb7-719cf1deac21",
   "metadata": {},
   "outputs": [],
   "source": []
  },
  {
   "cell_type": "code",
   "execution_count": null,
   "id": "5a35fe36-b1ea-4163-a917-e7ee3f89d4ae",
   "metadata": {},
   "outputs": [],
   "source": []
  },
  {
   "cell_type": "code",
   "execution_count": null,
   "id": "e2001e23-1bc3-4e3e-b97d-8576362af2ed",
   "metadata": {},
   "outputs": [],
   "source": []
  }
 ],
 "metadata": {
  "kernelspec": {
   "display_name": "Python 3 (ipykernel)",
   "language": "python",
   "name": "python3"
  },
  "language_info": {
   "codemirror_mode": {
    "name": "ipython",
    "version": 3
   },
   "file_extension": ".py",
   "mimetype": "text/x-python",
   "name": "python",
   "nbconvert_exporter": "python",
   "pygments_lexer": "ipython3",
   "version": "3.11.7"
  }
 },
 "nbformat": 4,
 "nbformat_minor": 5
}
